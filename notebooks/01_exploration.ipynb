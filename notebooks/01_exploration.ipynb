{
 "cells": [
  {
   "cell_type": "markdown",
   "id": "391e4c46",
   "metadata": {},
   "source": [
    "# Data Exploration and Visualization\n",
    "\n",
    "This notebook explores the PPG dataset, focusing on data cleaning, analysis, and visualization techniques. The goal is to understand the structure of the data, identify patterns, and visualize key insights.\n",
    "\n",
    "## Import Libraries\n"
   ]
  },
  {
   "cell_type": "code",
   "execution_count": null,
   "id": "19ccec82",
   "metadata": {},
   "outputs": [],
   "source": [
    "import numpy as np\n",
    "import pandas as pd\n",
    "import matplotlib.pyplot as plt\n",
    "import seaborn as sns\n",
    "import os\n",
    "from scipy.io import loadmat"
   ]
  }
 ],
 "metadata": {
  "language_info": {
   "name": "python"
  }
 },
 "nbformat": 4,
 "nbformat_minor": 5
}
