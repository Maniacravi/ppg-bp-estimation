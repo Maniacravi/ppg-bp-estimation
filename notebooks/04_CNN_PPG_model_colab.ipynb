{
 "cells": [
  {
   "cell_type": "markdown",
   "id": "d4415853",
   "metadata": {},
   "source": [
    "# 🧠 Step 0 — Environment Setup"
   ]
  },
  {
   "cell_type": "code",
   "execution_count": null,
   "id": "8038b021",
   "metadata": {},
   "outputs": [],
   "source": [
    "\n",
    "!nvidia-smi\n",
    "\n",
    "import torch\n",
    "import random\n",
    "import numpy as np\n",
    "\n",
    "# Device config\n",
    "if torch.cuda.is_available():\n",
    "    device = torch.device(\"cuda\")\n",
    "    print(f\"✅ Using GPU: {torch.cuda.get_device_name(0)}\")\n",
    "else:\n",
    "    device = torch.device(\"cpu\")\n",
    "    print(\"⚠️ Using CPU (expect slow training)\")\n"
   ]
  },
  {
   "cell_type": "markdown",
   "id": "e3fc2e97",
   "metadata": {},
   "source": [
    "# 🔹 Step 1 — Mount Google Drive"
   ]
  },
  {
   "cell_type": "code",
   "execution_count": null,
   "id": "2a73851d",
   "metadata": {},
   "outputs": [],
   "source": [
    "\n",
    "from google.colab import drive\n",
    "drive.mount('/content/drive')\n",
    "\n",
    "DATA_DIR = \"/content/drive/MyDrive/ppg-bp-estimation/data/processed\"\n",
    "CKPT_DIR = \"/content/drive/MyDrive/ppg-bp-estimation/checkpoints\"\n",
    "\n",
    "!mkdir -p $CKPT_DIR\n"
   ]
  },
  {
   "cell_type": "markdown",
   "id": "edd6ad08",
   "metadata": {},
   "source": [
    "# 🔹 Step 2 — Load Processed Data"
   ]
  },
  {
   "cell_type": "code",
   "execution_count": null,
   "id": "fe566408",
   "metadata": {},
   "outputs": [],
   "source": [
    "\n",
    "import numpy as np\n",
    "from torch.utils.data import TensorDataset, DataLoader\n",
    "\n",
    "data = np.load(f\"{DATA_DIR}/all_ppg_only.npz\")\n",
    "X_train, y_train = data['X_train'], data['y_train']\n",
    "X_val, y_val = data['X_val'], data['y_val']\n",
    "X_test, y_test = data['X_test'], data['y_test']\n",
    "\n",
    "X_train = torch.tensor(X_train, dtype=torch.float32).unsqueeze(1)\n",
    "y_train = torch.tensor(y_train, dtype=torch.float32)\n",
    "X_val = torch.tensor(X_val, dtype=torch.float32).unsqueeze(1)\n",
    "y_val = torch.tensor(y_val, dtype=torch.float32)\n",
    "X_test = torch.tensor(X_test, dtype=torch.float32).unsqueeze(1)\n",
    "y_test = torch.tensor(y_test, dtype=torch.float32)\n",
    "\n",
    "train_loader = DataLoader(TensorDataset(X_train, y_train), batch_size=128, shuffle=True, num_workers=4, pin_memory=True)\n",
    "val_loader = DataLoader(TensorDataset(X_val, y_val), batch_size=128, shuffle=False, num_workers=4, pin_memory=True)\n",
    "test_loader = DataLoader(TensorDataset(X_test, y_test), batch_size=128, shuffle=False, num_workers=4, pin_memory=True)\n"
   ]
  },
  {
   "cell_type": "markdown",
   "id": "857e0f96",
   "metadata": {},
   "source": [
    "# 🔹 Step 3 — Define CNN Model, Loss, and Optimizer"
   ]
  },
  {
   "cell_type": "code",
   "execution_count": null,
   "id": "6d8981d9",
   "metadata": {},
   "outputs": [],
   "source": [
    "\n",
    "import torch.nn as nn\n",
    "\n",
    "class CNN_BP_Estimator(nn.Module):\n",
    "    def __init__(self):\n",
    "        super(CNN_BP_Estimator, self).__init__()\n",
    "        self.conv_block = nn.Sequential(\n",
    "            nn.Conv1d(1, 16, 7, padding=3), nn.BatchNorm1d(16), nn.ReLU(), nn.MaxPool1d(2),\n",
    "            nn.Conv1d(16, 32, 5, padding=2), nn.BatchNorm1d(32), nn.ReLU(), nn.MaxPool1d(2),\n",
    "            nn.Conv1d(32, 64, 3, padding=1), nn.BatchNorm1d(64), nn.ReLU(), nn.MaxPool1d(2),\n",
    "            nn.Conv1d(64, 128, 3, padding=1), nn.BatchNorm1d(128), nn.ReLU(),\n",
    "            nn.AdaptiveMaxPool1d(1)\n",
    "        )\n",
    "        self.fc = nn.Sequential(nn.Flatten(), nn.Linear(128, 64), nn.ReLU(), nn.Dropout(0.3))\n",
    "        self.sbp_head = nn.Linear(64, 1)\n",
    "        self.dbp_head = nn.Linear(64, 1)\n",
    "\n",
    "    def forward(self, x):\n",
    "        x = self.conv_block(x)\n",
    "        x = self.fc(x)\n",
    "        sbp = self.sbp_head(x)\n",
    "        dbp = self.dbp_head(x)\n",
    "        return torch.cat((sbp, dbp), dim=1)\n",
    "\n",
    "model = CNN_BP_Estimator().to(device)\n",
    "criterion = nn.MSELoss()\n",
    "optimizer = torch.optim.Adam(model.parameters(), lr=1e-3)\n"
   ]
  },
  {
   "cell_type": "markdown",
   "id": "40177efa",
   "metadata": {},
   "source": [
    "# 🔹 Step 4 — Training Loop (with AMP + tqdm + Checkpointing)"
   ]
  },
  {
   "cell_type": "code",
   "execution_count": null,
   "id": "39061870",
   "metadata": {},
   "outputs": [],
   "source": [
    "\n",
    "from tqdm import tqdm\n",
    "from torch.cuda.amp import autocast, GradScaler\n",
    "\n",
    "scaler = GradScaler()\n",
    "num_epochs = 30\n",
    "best_val_loss = float('inf')\n",
    "\n",
    "train_losses, val_losses, sbp_rmses, dbp_rmses = [], [], [], []\n",
    "\n",
    "for epoch in range(num_epochs):\n",
    "    model.train()\n",
    "    total_train_loss = 0.0\n",
    "    train_bar = tqdm(train_loader, desc=f\"Epoch {epoch+1}/{num_epochs} [Train]\")\n",
    "\n",
    "    for X_batch, y_batch in train_bar:\n",
    "        X_batch, y_batch = X_batch.to(device), y_batch.to(device)\n",
    "        optimizer.zero_grad()\n",
    "\n",
    "        with autocast():\n",
    "            preds = model(X_batch)\n",
    "            loss = criterion(preds, y_batch)\n",
    "\n",
    "        scaler.scale(loss).backward()\n",
    "        scaler.step(optimizer)\n",
    "        scaler.update()\n",
    "\n",
    "        total_train_loss += loss.item() * X_batch.size(0)\n",
    "        train_bar.set_postfix({\"Loss\": f\"{loss.item():.4f}\"})\n",
    "\n",
    "    avg_train_loss = total_train_loss / len(train_loader.dataset)\n",
    "\n",
    "    model.eval()\n",
    "    val_loss, sbp_rmse_total, dbp_rmse_total = 0, 0, 0\n",
    "\n",
    "    with torch.no_grad():\n",
    "        for X_batch, y_batch in tqdm(val_loader, desc=f\"Epoch {epoch+1}/{num_epochs} [Val]\", leave=False):\n",
    "            X_batch, y_batch = X_batch.to(device), y_batch.to(device)\n",
    "            preds = model(X_batch)\n",
    "            loss = criterion(preds, y_batch)\n",
    "            val_loss += loss.item() * X_batch.size(0)\n",
    "\n",
    "            sbp_rmse_total += torch.sqrt(torch.mean((preds[:, 0]-y_batch[:, 0])**2)).item() * X_batch.size(0)\n",
    "            dbp_rmse_total += torch.sqrt(torch.mean((preds[:, 1]-y_batch[:, 1])**2)).item() * X_batch.size(0)\n",
    "\n",
    "    avg_val_loss = val_loss / len(val_loader.dataset)\n",
    "    avg_sbp_rmse = sbp_rmse_total / len(val_loader.dataset)\n",
    "    avg_dbp_rmse = dbp_rmse_total / len(val_loader.dataset)\n",
    "\n",
    "    train_losses.append(avg_train_loss)\n",
    "    val_losses.append(avg_val_loss)\n",
    "    sbp_rmses.append(avg_sbp_rmse)\n",
    "    dbp_rmses.append(avg_dbp_rmse)\n",
    "\n",
    "    print(f\"Epoch [{epoch+1}/{num_epochs}] | Train Loss: {avg_train_loss:.4f} | Val Loss: {avg_val_loss:.4f} | SBP RMSE: {avg_sbp_rmse:.2f} | DBP RMSE: {avg_dbp_rmse:.2f}\")\n",
    "\n",
    "    if avg_val_loss < best_val_loss:\n",
    "        best_val_loss = avg_val_loss\n",
    "        torch.save(model.state_dict(), f\"{CKPT_DIR}/best_cnn_model.pt\")\n",
    "        print(f\"✅ Saved new best model at epoch {epoch+1}\")\n"
   ]
  }
 ],
 "metadata": {
  "language_info": {
   "name": "python"
  }
 },
 "nbformat": 4,
 "nbformat_minor": 5
}
