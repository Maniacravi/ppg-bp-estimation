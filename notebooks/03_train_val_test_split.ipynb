{
 "cells": [
  {
   "cell_type": "markdown",
   "id": "da4bca5f",
   "metadata": {},
   "source": [
    "# Split Dataset into Train, Validation and Test Sets"
   ]
  },
  {
   "cell_type": "markdown",
   "id": "21adebe4",
   "metadata": {},
   "source": [
    "## Imports and setup"
   ]
  },
  {
   "cell_type": "code",
   "execution_count": 14,
   "id": "86b61188",
   "metadata": {},
   "outputs": [],
   "source": [
    "\n",
    "import sys, os\n",
    "sys.path.append(os.path.abspath(\"..\"))  # go one level up (project root)\n",
    "\n",
    "import glob\n",
    "import numpy as np\n",
    "from sklearn.model_selection import train_test_split\n",
    "from dataset.bp_dataset import get_dataloader\n",
    "\n",
    "import torch\n",
    "from torch.utils.data import Subset, DataLoader, TensorDataset\n",
    "\n",
    "import matplotlib.pyplot as plt\n",
    "\n"
   ]
  },
  {
   "cell_type": "code",
   "execution_count": 5,
   "id": "2eb5cfbd",
   "metadata": {},
   "outputs": [
    {
     "name": "stdout",
     "output_type": "stream",
     "text": [
      "Total files found: 12\n"
     ]
    }
   ],
   "source": [
    "all_files = sorted(glob.glob(\"../data/processed/*_ppg_only.npz\"))\n",
    "print(f\"Total files found: {len(all_files)}\")"
   ]
  },
  {
   "cell_type": "markdown",
   "id": "c150b04a",
   "metadata": {},
   "source": [
    "## Split files into train, validation and test sets"
   ]
  },
  {
   "cell_type": "code",
   "execution_count": 8,
   "id": "4da29fa2",
   "metadata": {},
   "outputs": [
    {
     "name": "stdout",
     "output_type": "stream",
     "text": [
      "Total segments: 3507740\n",
      "X shape: (3507740, 375)\n",
      "y shape: (3507740, 2)\n"
     ]
    }
   ],
   "source": [
    "# Load all processed files (use _ppg_only or _ppg_ecg)\n",
    "npz_files = sorted(glob.glob(\"../data/processed/*_ppg_only.npz\"))\n",
    "\n",
    "X_list, y_list = [], []\n",
    "for file in npz_files:\n",
    "    data = np.load(file)\n",
    "    X_list.append(data[\"X\"])\n",
    "    y_list.append(data[\"y\"])\n",
    "\n",
    "X = np.concatenate(X_list, axis=0)\n",
    "y = np.concatenate(y_list, axis=0)\n",
    "\n",
    "print(f\"Total segments: {len(X)}\")\n",
    "print(\"X shape:\", X.shape)\n",
    "print(\"y shape:\", y.shape)\n"
   ]
  },
  {
   "cell_type": "code",
   "execution_count": 9,
   "id": "22b59611",
   "metadata": {},
   "outputs": [
    {
     "name": "stdout",
     "output_type": "stream",
     "text": [
      "Train: 2455418 | Val: 526161 | Test: 526161\n"
     ]
    }
   ],
   "source": [
    "# Split into train, validation, and test sets\n",
    "X_train, X_temp, y_train, y_temp = train_test_split(X, y, test_size=0.3, random_state=42)\n",
    "X_val, X_test, y_val, y_test = train_test_split(X_temp, y_temp, test_size=0.5, random_state=42)\n",
    "\n",
    "print(f\"Train: {len(X_train)} | Val: {len(X_val)} | Test: {len(X_test)}\")"
   ]
  },
  {
   "cell_type": "markdown",
   "id": "d708e829",
   "metadata": {},
   "source": [
    "## Create DataLoaders"
   ]
  },
  {
   "cell_type": "code",
   "execution_count": 11,
   "id": "037f6f8e",
   "metadata": {},
   "outputs": [],
   "source": [
    "# Convert to PyTorch tensors\n",
    "X_train_t = torch.tensor(X_train, dtype=torch.float32)\n",
    "y_train_t = torch.tensor(y_train, dtype=torch.float32)\n",
    "\n",
    "X_val_t = torch.tensor(X_val, dtype=torch.float32)\n",
    "y_val_t = torch.tensor(y_val, dtype=torch.float32)\n",
    "\n",
    "X_test_t = torch.tensor(X_test, dtype=torch.float32)\n",
    "y_test_t = torch.tensor(y_test, dtype=torch.float32)\n",
    "\n",
    "# Add channel dimension if PPG-only\n",
    "if X_train_t.ndim == 2:\n",
    "    X_train_t = X_train_t.unsqueeze(1)\n",
    "    X_val_t = X_val_t.unsqueeze(1)\n",
    "    X_test_t = X_test_t.unsqueeze(1)\n",
    "\n",
    "train_loader = DataLoader(TensorDataset(X_train_t, y_train_t), batch_size=64, shuffle=True)\n",
    "val_loader   = DataLoader(TensorDataset(X_val_t, y_val_t), batch_size=64, shuffle=False)\n",
    "test_loader  = DataLoader(TensorDataset(X_test_t, y_test_t), batch_size=64, shuffle=False)"
   ]
  },
  {
   "cell_type": "markdown",
   "id": "47d1c835",
   "metadata": {},
   "source": [
    "## Sanity checks"
   ]
  },
  {
   "cell_type": "markdown",
   "id": "cd0d7edc",
   "metadata": {},
   "source": [
    "Check for NaN values in the datasets"
   ]
  },
  {
   "cell_type": "code",
   "execution_count": 12,
   "id": "c4b2f599",
   "metadata": {},
   "outputs": [
    {
     "name": "stdout",
     "output_type": "stream",
     "text": [
      "NaN in X: False\n",
      "NaN in y: False\n"
     ]
    }
   ],
   "source": [
    "print(\"NaN in X:\", np.isnan(X).any())\n",
    "print(\"NaN in y:\", np.isnan(y).any())\n"
   ]
  },
  {
   "cell_type": "markdown",
   "id": "32c13b05",
   "metadata": {},
   "source": [
    "Check SBP and DBP ranges in the datasets"
   ]
  },
  {
   "cell_type": "code",
   "execution_count": 13,
   "id": "4fad317a",
   "metadata": {},
   "outputs": [
    {
     "name": "stdout",
     "output_type": "stream",
     "text": [
      "SBP range: 55.291472023101285 - 199.51859203801246\n",
      "DBP range: 50.0 - 191.42117116588557\n"
     ]
    }
   ],
   "source": [
    "print(\"SBP range:\", y[:, 0].min(), \"-\", y[:, 0].max())\n",
    "print(\"DBP range:\", y[:, 1].min(), \"-\", y[:, 1].max())"
   ]
  },
  {
   "cell_type": "markdown",
   "id": "3ca159a0",
   "metadata": {},
   "source": [
    "## Remove outliers based on SBP and DBP ranges"
   ]
  },
  {
   "cell_type": "code",
   "execution_count": 15,
   "id": "e8e0c766",
   "metadata": {},
   "outputs": [
    {
     "data": {
      "image/png": "[encoded data removed]",
      "text/plain": [
       "<Figure size 800x400 with 1 Axes>"
      ]
     },
     "metadata": {},
     "output_type": "display_data"
    }
   ],
   "source": [
    "# Visualize distributions\n",
    "plt.figure(figsize=(8, 4))\n",
    "plt.hist(y[:, 0], bins=50, alpha=0.7, label=\"SBP\")\n",
    "plt.hist(y[:, 1], bins=50, alpha=0.7, label=\"DBP\")\n",
    "plt.xlabel(\"Blood Pressure (mmHg)\")\n",
    "plt.ylabel(\"Count\")\n",
    "plt.legend()\n",
    "plt.title(\"SBP / DBP Distribution (All Segments)\")\n",
    "plt.show()"
   ]
  },
  {
   "cell_type": "code",
   "execution_count": null,
   "id": "a2257de0",
   "metadata": {},
   "outputs": [
    {
     "name": "stdout",
     "output_type": "stream",
     "text": [
      "Segments before cleaning: 3507740\n",
      "Remaining segments after cleaning: 3425883 | Removed: 81857   segments\n"
     ]
    }
   ],
   "source": [
    "print(f'Segments before cleaning: {len(X)}')\n",
    "\n",
    "# Remove outliers based on SBP and DBP ranges\n",
    "mask = (y[:, 0] >= 80) & (y[:, 0] <= 180) & (y[:, 1] >= 50) & (y[:, 1] <= 120)\n",
    "X = X[mask]\n",
    "y = y[mask]\n",
    "\n",
    "print(f\"Remaining segments after cleaning: {len(X)} | Removed: {len(mask) - np.sum(mask)} segments\")"
   ]
  },
  {
   "cell_type": "code",
   "execution_count": null,
   "id": "8c37cf5a",
   "metadata": {},
   "outputs": [],
   "source": []
  }
 ],
 "metadata": {
  "kernelspec": {
   "display_name": ".venv",
   "language": "python",
   "name": "python3"
  },
  "language_info": {
   "codemirror_mode": {
    "name": "ipython",
    "version": 3
   },
   "file_extension": ".py",
   "mimetype": "text/x-python",
   "name": "python",
   "nbconvert_exporter": "python",
   "pygments_lexer": "ipython3",
   "version": "3.11.9"
  }
 },
 "nbformat": 4,
 "nbformat_minor": 5
}
